{
  "cells": [
    {
      "cell_type": "markdown",
      "metadata": {
        "id": "kEYjtIghj7Vx"
      },
      "source": [
        "# **CAPÍTULO 2 - ORDENAÇÃO POR SELEÇÃO**\n"
      ]
    },
    {
      "cell_type": "markdown",
      "metadata": {
        "id": "L82Y0X5Eqb5G"
      },
      "source": [
        "\n",
        "Código para ordenar um array\n",
        "---\n",
        "\n"
      ]
    },
    {
      "cell_type": "code",
      "execution_count": null,
      "metadata": {
        "colab": {
          "base_uri": "https://localhost:8080/"
        },
        "id": "tZhwxGK5qet2",
        "outputId": "3f92b607-6375-4d07-f622-ca11cfa4a586"
      },
      "outputs": [
        {
          "name": "stdout",
          "output_type": "stream",
          "text": [
            "[1, 4, 10, 11, 21, 31, 50, 104, 210, 304]\n"
          ]
        }
      ],
      "source": [
        "def buscaMenor(arr):\n",
        "    menor = arr[0] # Define o menor elemento\n",
        "    menor_indice = 0 # Define o índice\n",
        "    for i in range(1, len(arr)):\n",
        "      if arr[i] < menor: # Faz a busca do menor elemento, caso não seja o primeiro\n",
        "        menor = arr[i]\n",
        "        menor_indice = i\n",
        "    return menor_indice # Retorna o índice do elemento\n",
        "\n",
        "\n",
        "def ordernaporSelecao(arr):\n",
        "    novoArr = []\n",
        "    for i in range(len(arr)):\n",
        "      menor = buscaMenor(arr) # Retorna o índice do menor elemento no array\n",
        "      novoArr.append(arr.pop(menor)) # Adiciona esse elemento no novo array e o apaga no antigo\n",
        "    return novoArr\n",
        "\n",
        "\n",
        "print(ordernaporSelecao([50, 31, 4, 10, 21, 1, 304, 11, 104, 210]))"
      ]
    },
    {
      "cell_type": "markdown",
      "metadata": {
        "id": "oIYfSP2qjvLA"
      },
      "source": [
        "# **CAPÍTULO 3 - RECURSÃO**"
      ]
    },
    {
      "cell_type": "code",
      "execution_count": null,
      "metadata": {
        "id": "4yaTzn2doz9n"
      },
      "outputs": [],
      "source": [
        "# Toda função recursiva precisa de um caso-base e o caso-recursivo\n",
        "\n",
        "def regressiva(i):\n",
        "  print(i)\n",
        "  if i <= 0: # Caso-base\n",
        "    return\n",
        "  regressiva(i-1) # Caso-recursivo\n",
        "\n",
        "\n",
        "regressiva(10)"
      ]
    },
    {
      "cell_type": "code",
      "execution_count": null,
      "metadata": {
        "colab": {
          "base_uri": "https://localhost:8080/"
        },
        "id": "InIHkWOBsQNc",
        "outputId": "00812b38-26b5-4166-c51c-5a459cc0279f"
      },
      "outputs": [
        {
          "name": "stdout",
          "output_type": "stream",
          "text": [
            "120\n"
          ]
        }
      ],
      "source": [
        "# A pilha de chamada com recursão\n",
        "\n",
        "def fat(x):\n",
        "  if x == 1:\n",
        "    return 1\n",
        "  else:\n",
        "    return x * fat(x-1)\n",
        "\n",
        "print(fat(5))"
      ]
    },
    {
      "cell_type": "markdown",
      "metadata": {
        "id": "3WRrlRol9Yt9"
      },
      "source": [
        "# **CAPÍTULO 4 - QUICKSORT**"
      ]
    },
    {
      "cell_type": "code",
      "execution_count": null,
      "metadata": {
        "colab": {
          "base_uri": "https://localhost:8080/"
        },
        "id": "tzrZY4qtHZPQ",
        "outputId": "171bd4b9-f6e6-41ed-f8f0-22c2edfdaefa"
      },
      "outputs": [
        {
          "output_type": "stream",
          "name": "stdout",
          "text": [
            "512\n"
          ]
        }
      ],
      "source": [
        "# Escreva o código para a função soma, vista anteriormente.\n",
        "\n",
        "def soma(arr):\n",
        "  total = 0\n",
        "\n",
        "  for x in arr:\n",
        "    total += x\n",
        "\n",
        "  return total\n",
        "\n",
        "\n",
        "print(soma([1, 421, 50, 30, 10]))\n"
      ]
    },
    {
      "cell_type": "code",
      "source": [
        "# Escreva uma função recursiva que conte o número de itens em uma lista.\n",
        "\n",
        "def conta_array(arr):\n",
        "    if arr == []:\n",
        "      return 0\n",
        "\n",
        "    return 1 + conta_array(arr[1:])\n",
        "\n",
        "\n",
        "print(conta_array([1, 421, 50, 30, 10]))"
      ],
      "metadata": {
        "colab": {
          "base_uri": "https://localhost:8080/"
        },
        "id": "gbm6gvKHuMwx",
        "outputId": "09f95bbc-1982-4e2e-ddaa-be3d1e052531"
      },
      "execution_count": null,
      "outputs": [
        {
          "output_type": "stream",
          "name": "stdout",
          "text": [
            "5\n"
          ]
        }
      ]
    },
    {
      "cell_type": "code",
      "source": [
        "# Encontre o valor mais alto em uma lista.\n",
        "\n",
        "def retorna_maior(arr):\n",
        "\n",
        "  maior = arr[0]\n",
        "  maior_indice = 0\n",
        "\n",
        "  for i in range(len(arr)):\n",
        "    if arr[i] > maior:\n",
        "      maior = arr[i]\n",
        "      maior_indice = i\n",
        "  return maior\n",
        "\n",
        "\n",
        "print(retorna_maior([1000, 49, 329, 194, 4]))\n",
        "\n",
        "\n",
        "# Resolução do Livro\n",
        "\n",
        "def maior(lista):\n",
        "\n",
        "    if len(lista) == 2:\n",
        "      return lista[0] if lista[0] > lista[1] else lista[1]\n",
        "\n",
        "    sub_maior = maior(lista[1:])\n",
        "\n",
        "    return lista[0] if lista[0] > sub_maior else sub_maior\n",
        "\n",
        "print(maior([1000, 49, 329, 194, 4]))"
      ],
      "metadata": {
        "colab": {
          "base_uri": "https://localhost:8080/"
        },
        "id": "ee-lYVKRw1Bs",
        "outputId": "08923cf1-c905-4d22-db34-18d71a142285"
      },
      "execution_count": null,
      "outputs": [
        {
          "output_type": "stream",
          "name": "stdout",
          "text": [
            "1000\n",
            "1000\n"
          ]
        }
      ]
    },
    {
      "cell_type": "markdown",
      "source": [
        "Você se lembra da pesquisa binária do Capítulo 1? Ela também é um\n",
        "algoritmo do tipo dividir para conquistar. Você consegue determinar o\n",
        "caso-base e o caso recursivo para a pesquisa binária?\n",
        "\n",
        "Caso-base é quando a divisão da quantidade de elementos for igual a 1 e o caso recursivo é quando o número da quantidade de elementos ainda puder ser dividido"
      ],
      "metadata": {
        "id": "vQ0PnIbr1fN4"
      }
    },
    {
      "cell_type": "code",
      "source": [
        "# Código do quick-sort\n",
        "\n",
        "\"\"\"1º Passo - Definir um pivô\n",
        "2º Passo - Particionar o array em dois subarrays em que o primeiro seja de elementos\n",
        "menores que o pivô e o segundo maiores que o pivô\n",
        "3º Passo - Executar o quick-sort recursivamente em ambos os subarrays\"\"\"\n",
        "\n",
        "def quick_sort(arr):\n",
        "\n",
        "  if len(arr) < 2:\n",
        "    return arr\n",
        "  else:\n",
        "    pivo = arr[len(arr)//2]\n",
        "    menores = [i for i in arr[0:] if i < pivo]\n",
        "    maiores = [i for i in arr[0:] if i > pivo]\n",
        "\n",
        "    return quick_sort(menores) + [pivo] + quick_sort(maiores)\n",
        "\n",
        "print(quick_sort([10, 5, 2, 3]))\n"
      ],
      "metadata": {
        "colab": {
          "base_uri": "https://localhost:8080/"
        },
        "id": "0n6kU7021yUW",
        "outputId": "71896e37-0994-4791-ca00-b335bbe54286"
      },
      "execution_count": null,
      "outputs": [
        {
          "output_type": "stream",
          "name": "stdout",
          "text": [
            "[2, 3, 5, 10]\n"
          ]
        }
      ]
    },
    {
      "cell_type": "markdown",
      "source": [
        "# **CAPÍTULO 5 - TABELA HASH**"
      ],
      "metadata": {
        "id": "C2_92kXT_t08"
      }
    },
    {
      "cell_type": "markdown",
      "source": [
        "Funções hash mapeiam  consistentemente um nome para o mesmo índice, é exatamente assim que funcionam os dicionários em python (https://wiki.python.org/moin/DictionaryKeys). Em termos técnicos, ela mapeia diferentes strings para diferentes índices. Além disso, ela tem conhecimento sobre o tamanho do arry e retornará apenas índices válidos."
      ],
      "metadata": {
        "id": "_APMq88HDqB2"
      }
    },
    {
      "cell_type": "markdown",
      "source": [
        "Tabelas hash são funções hash trabalhando em conjunto com arrays"
      ],
      "metadata": {
        "id": "r-6fD6vJEYn7"
      }
    },
    {
      "cell_type": "markdown",
      "source": [
        "# **CAPÍTULO 6 - PESQUISA EM LARGURA**"
      ],
      "metadata": {
        "id": "Y9kO5VrGOUOl"
      }
    },
    {
      "cell_type": "code",
      "source": [
        "from collections import deque\n",
        "\n",
        "def pessoa_e_vendedor(nome):\n",
        "    return nome[-1] == 'm'\n",
        "\n",
        "grafo = {}\n",
        "\n",
        "grafo[\"voce\"] = [\"alice\", \"bob\", \"claire\"]\n",
        "grafo[\"bob\"] = [\"anuj\", \"peggy\"]\n",
        "grafo[\"alice\"] = [\"peggy\"]\n",
        "grafo[\"claire\"] = [\"thom\", \"jonny\"]\n",
        "grafo[\"anuj\"] = []\n",
        "grafo[\"peggy\"] = []\n",
        "grafo[\"thom\"] = []\n",
        "grafo[\"jonny\"] = []\n",
        "\n",
        "\n",
        "def pesquisa(nome):\n",
        "\n",
        "    fila_de_pesquisa = deque()\n",
        "    fila_de_pesquisa += grafo[nome]\n",
        "    verificadas = []\n",
        "\n",
        "    while fila_de_pesquisa:\n",
        "        pessoa = fila_de_pesquisa.popleft()\n",
        "        if not pessoa in verificadas:\n",
        "          if pessoa_e_vendedor(pessoa):\n",
        "            print (pessoa + \" é um vendedor de manga!\")\n",
        "            return True\n",
        "          else:\n",
        "            fila_de_pesquisa += grafo[pessoa]\n",
        "            verificadas.append(pessoa)\n",
        "\n",
        "    return False\n",
        "\n",
        "pesquisa(\"voce\")"
      ],
      "metadata": {
        "colab": {
          "base_uri": "https://localhost:8080/"
        },
        "id": "uGVBlmcF5Grq",
        "outputId": "7ca33f6d-7cae-4960-da70-8469dddc8651"
      },
      "execution_count": null,
      "outputs": [
        {
          "output_type": "stream",
          "name": "stdout",
          "text": [
            "thom é um vendedor de manga!\n"
          ]
        },
        {
          "output_type": "execute_result",
          "data": {
            "text/plain": [
              "True"
            ]
          },
          "metadata": {},
          "execution_count": 8
        }
      ]
    },
    {
      "cell_type": "markdown",
      "source": [
        "# **CAPÍTULO 7 - ALGORITMO DE DIJKSTRA**"
      ],
      "metadata": {
        "id": "-ET6C91fRFOT"
      }
    }
  ],
  "metadata": {
    "colab": {
      "collapsed_sections": [
        "kEYjtIghj7Vx",
        "oIYfSP2qjvLA"
      ],
      "provenance": [],
      "authorship_tag": "ABX9TyNqeTI5mftLtWLKDcd2hOl3"
    },
    "kernelspec": {
      "display_name": "Python 3",
      "name": "python3"
    },
    "language_info": {
      "name": "python"
    }
  },
  "nbformat": 4,
  "nbformat_minor": 0
}